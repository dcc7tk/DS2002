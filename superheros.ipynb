{
  "cells": [
    {
      "cell_type": "markdown",
      "metadata": {
        "id": "view-in-github",
        "colab_type": "text"
      },
      "source": [
        "<a href=\"https://colab.research.google.com/github/dcc7tk/DS2002/blob/main/superheros.ipynb\" target=\"_parent\"><img src=\"https://colab.research.google.com/assets/colab-badge.svg\" alt=\"Open In Colab\"/></a>"
      ]
    },
    {
      "cell_type": "markdown",
      "id": "5fa8dcf6",
      "metadata": {
        "id": "5fa8dcf6"
      },
      "source": [
        "# Superhero Database Assignment (SQLite & Google Colab)\n",
        "\n",
        "## Objective\n",
        "In this assignment, you will design and implement a **Superhero Database** using SQLite in Google Colab. This database will store superheroes, villains, and their battles. You will write SQL queries to analyze battle outcomes and relationships between heroes and villains.\n",
        "\n",
        "### Group Size:\n",
        "- 2 to 3 students per group.\n",
        "\n",
        "### Tools Required:\n",
        "- **Google Colab**\n",
        "- **SQLite (built into Python)**\n",
        "- **CSV files (provided for import)**"
      ]
    },
    {
      "cell_type": "markdown",
      "id": "5535e625",
      "metadata": {
        "id": "5535e625"
      },
      "source": [
        "## Step 1: Setting Up Your SQLite Database\n",
        "\n",
        "### Tasks:\n",
        "1. Initialize SQLite in Google Colab.\n",
        "2. Create a database named `superhero_db.sqlite`.\n",
        "3. Define the database schema, ensuring it includes the following tables:\n",
        "   - `heroes`: Stores superhero names, powers, and teams.\n",
        "   - `villains`: Stores villains and their evil plans.\n",
        "   - `battles`: Tracks battles between heroes and villains, including the outcome.\n",
        "4. Implement primary keys and foreign keys where appropriate.\n",
        "\n",
        "✅ **Checkpoint:** Ensure that the database and tables have been successfully created."
      ]
    },
    {
      "cell_type": "code",
      "source": [
        "import sqlite3\n",
        "\n",
        "# connect to database\n",
        "connection = sqlite3.connect('superhero_db.sqlite')\n",
        "print(\"Database created and connected!\")\n",
        "\n",
        "# cursor\n",
        "cursor = connection.cursor()\n",
        "print(\"Cursor created!\")\n",
        "\n",
        "# heroes table\n",
        "cursor.execute('''\n",
        "CREATE TABLE IF NOT EXISTS heroes (\n",
        "    id INTEGER PRIMARY KEY AUTOINCREMENT,\n",
        "    name TEXT NOT NULL,\n",
        "    power TEXT,\n",
        "    team TEXT\n",
        ")\n",
        "''')\n",
        "print(\"Heroes table created!\")\n",
        "\n",
        "# villains table\n",
        "cursor.execute('''\n",
        "CREATE TABLE IF NOT EXISTS villains (\n",
        "    id INTEGER PRIMARY KEY AUTOINCREMENT,\n",
        "    name TEXT NOT NULL,\n",
        "    evil_plan TEXT NOT NULL\n",
        ")\n",
        "''')\n",
        "print(\"Villains table created!\")\n",
        "\n",
        "# battles table\n",
        "cursor.execute('''\n",
        "CREATE TABLE IF NOT EXISTS battles (\n",
        "    id INTEGER PRIMARY KEY AUTOINCREMENT,\n",
        "    hero_id INTEGER,\n",
        "    villain_id INTEGER,\n",
        "    outcome TEXT,\n",
        "    FOREIGN KEY (hero_id) REFERENCES heroes(id),\n",
        "    FOREIGN KEY (villain_id) REFERENCES villains(id)\n",
        ")\n",
        "''')\n",
        "print(\"Battles table created!\")"
      ],
      "metadata": {
        "colab": {
          "base_uri": "https://localhost:8080/"
        },
        "id": "O-iQDkO45-vq",
        "outputId": "7a561c1e-4762-49e9-bc2c-51d333f8d8de"
      },
      "id": "O-iQDkO45-vq",
      "execution_count": null,
      "outputs": [
        {
          "output_type": "stream",
          "name": "stdout",
          "text": [
            "Database created and connected!\n",
            "Cursor created!\n",
            "Heroes table created!\n",
            "Villains table created!\n",
            "Battles table created!\n"
          ]
        }
      ]
    },
    {
      "cell_type": "markdown",
      "id": "154b3c3a",
      "metadata": {
        "id": "154b3c3a"
      },
      "source": [
        "## Step 2: Import Data from CSV Files\n",
        "\n",
        "### Tasks:\n",
        "1. Download the provided CSV files.\n",
        "2. Upload them to Google Colab.\n",
        "3. Write a script to import data from these files into the appropriate tables.\n",
        "4. Verify that the data has been successfully inserted.\n",
        "\n",
        "✅ **Checkpoint:** Ensure that each table contains the expected data from the CSV files."
      ]
    },
    {
      "cell_type": "code",
      "source": [
        "import pandas as pd\n",
        "\n",
        "# heroes\n",
        "heroes = pd.read_csv('heroes.csv')\n",
        "print(heroes.head())\n",
        "heroes.to_sql('heroes', connection, if_exists='replace', index=False)\n",
        "print(\"Data from CSV has been inserted into the heroes table.\")\n",
        "\n",
        "# villains\n",
        "villains = pd.read_csv('villains.csv')\n",
        "print(villains.head())\n",
        "villains.to_sql('villains', connection, if_exists='replace', index=False)\n",
        "print(\"Data from CSV has been inserted into the villains table.\")\n",
        "\n",
        "# battles\n",
        "battles = pd.read_csv('battles.csv')\n",
        "print(battles.head())\n",
        "battles.to_sql('battles', connection, if_exists='replace', index=False)\n",
        "print(\"Data from CSV has been inserted into the battles table.\")"
      ],
      "metadata": {
        "colab": {
          "base_uri": "https://localhost:8080/"
        },
        "id": "ygzAC1-C9_Hs",
        "outputId": "4b7c3546-f04d-47a6-a1c6-ac09abc3d985"
      },
      "id": "ygzAC1-C9_Hs",
      "execution_count": null,
      "outputs": [
        {
          "output_type": "stream",
          "name": "stdout",
          "text": [
            "   id        name             power            team\n",
            "0   1  Spider-Man      Web-slinging        Avengers\n",
            "1   2    Iron Man     Powered Armor        Avengers\n",
            "2   3      Batman  Genius Detective  Justice League\n",
            "3   4    Superman    Super Strength  Justice League\n",
            "4   5        Thor    God of Thunder        Avengers\n",
            "Data from CSV has been inserted into the heroes table.\n",
            "   id          name                           evil_plan\n",
            "0   1  Green Goblin                  Terrorize New York\n",
            "1   2        Thanos         Collect all Infinity Stones\n",
            "2   3         Joker              Spread chaos in Gotham\n",
            "3   4    Lex Luthor                     Defeat Superman\n",
            "4   5          Loki  Trick humanity into worshiping him\n",
            "Data from CSV has been inserted into the villains table.\n",
            "   id  hero_id  villain_id       outcome\n",
            "0   1        1          10  Villain Wins\n",
            "1   2        9           3     Hero Wins\n",
            "2   3        8           1          Draw\n",
            "3   4        5           4  Villain Wins\n",
            "4   5        1           7     Hero Wins\n",
            "Data from CSV has been inserted into the battles table.\n"
          ]
        }
      ]
    },
    {
      "cell_type": "markdown",
      "id": "33548d9f",
      "metadata": {
        "id": "33548d9f"
      },
      "source": [
        "## Step 3: Querying the Database\n",
        "\n",
        "### Tasks:\n",
        "Write SQL queries to answer the following:\n",
        "1. Retrieve all superheroes and their powers.\n",
        "2. Find all battles where the hero won.\n",
        "3. List all villains and their evil plans.\n",
        "4. Determine which superhero has fought the most battles.\n",
        "\n",
        "✅ **Checkpoint:** Ensure that all queries return meaningful results from the database."
      ]
    },
    {
      "cell_type": "code",
      "source": [
        "# q1\n",
        "cursor.execute(\"SELECT * FROM heroes\")\n",
        "q1 = cursor.fetchall()\n",
        "print(\"All superheroes and their powers:\")\n",
        "for each in q1:\n",
        "    print(each)\n",
        "\n",
        "# q2\n",
        "cursor.execute(\"SELECT * FROM battles WHERE outcome = 'Hero Wins'\")\n",
        "q2 = cursor.fetchall()\n",
        "print(\"All battles where the hero won:\")\n",
        "for each in q2:\n",
        "  print(each)\n",
        "\n",
        "# q3\n",
        "cursor.execute(\"SELECT name, evil_plan FROM villains\")\n",
        "q3 = cursor.fetchall()\n",
        "print(\"All villains and their evil plans:\")\n",
        "for each in q3:\n",
        "  print(each)\n",
        "\n",
        "# q4\n",
        "cursor.execute('''\n",
        "    SELECT hero_id, COUNT(*) AS battle_count\n",
        "    FROM battles\n",
        "    GROUP BY hero_id\n",
        "    ORDER BY battle_count DESC\n",
        "''')\n",
        "q4id = cursor.fetchone()\n",
        "cursor.execute(f\"SELECT name FROM heroes WHERE id = {q4id[0]}\")\n",
        "q4 = cursor.fetchone()\n",
        "print(f\"Superhero who has fought the most battles: {q4[0]}\")"
      ],
      "metadata": {
        "colab": {
          "base_uri": "https://localhost:8080/"
        },
        "id": "NbU6Deiw_2hI",
        "outputId": "c6f488cb-d48d-435e-9f71-b7e1704dc51c"
      },
      "id": "NbU6Deiw_2hI",
      "execution_count": null,
      "outputs": [
        {
          "output_type": "stream",
          "name": "stdout",
          "text": [
            "All superheroes and their powers:\n",
            "(1, 'Spider-Man', 'Web-slinging', 'Avengers')\n",
            "(2, 'Iron Man', 'Powered Armor', 'Avengers')\n",
            "(3, 'Batman', 'Genius Detective', 'Justice League')\n",
            "(4, 'Superman', 'Super Strength', 'Justice League')\n",
            "(5, 'Thor', 'God of Thunder', 'Avengers')\n",
            "(6, 'Wonder Woman', 'Amazonian Strength', 'Justice League')\n",
            "(7, 'Black Panther', 'Enhanced Agility', 'Avengers')\n",
            "(8, 'The Flash', 'Super Speed', 'Justice League')\n",
            "(9, 'Hulk', 'Super Strength', 'Avengers')\n",
            "(10, 'Doctor Strange', 'Mystic Arts', 'Avengers')\n",
            "All battles where the hero won:\n",
            "(2, 9, 3, 'Hero Wins')\n",
            "(5, 1, 7, 'Hero Wins')\n",
            "(7, 9, 8, 'Hero Wins')\n",
            "(8, 3, 2, 'Hero Wins')\n",
            "(9, 7, 5, 'Hero Wins')\n",
            "(13, 8, 9, 'Hero Wins')\n",
            "(20, 3, 4, 'Hero Wins')\n",
            "(29, 3, 5, 'Hero Wins')\n",
            "(30, 5, 5, 'Hero Wins')\n",
            "All villains and their evil plans:\n",
            "('Green Goblin', 'Terrorize New York')\n",
            "('Thanos', 'Collect all Infinity Stones')\n",
            "('Joker', 'Spread chaos in Gotham')\n",
            "('Lex Luthor', 'Defeat Superman')\n",
            "('Loki', 'Trick humanity into worshiping him')\n",
            "('Ultron', 'AI world domination')\n",
            "('Darkseid', 'Control the universe')\n",
            "('Venom', 'Consume Spider-Man')\n",
            "('Magneto', 'Mutant supremacy')\n",
            "('Red Skull', 'Revive Hydra')\n",
            "Superhero who has fought the most battles: Batman\n"
          ]
        }
      ]
    },
    {
      "cell_type": "markdown",
      "id": "de8bda94",
      "metadata": {
        "id": "de8bda94"
      },
      "source": [
        "## Step 4: Add a Custom Feature\n",
        "\n",
        "### Tasks:\n",
        "1. Design and implement an additional table related to superheroes or villains.\n",
        "2. Populate it with data.\n",
        "3. Write at least one query to retrieve meaningful insights from the new table.\n",
        "\n",
        "**Examples of Custom Features:**\n",
        "- Sidekicks for superheroes\n",
        "- Villain hideouts\n",
        "- Battle locations\n",
        "- Superhero equipment\n",
        "\n",
        "✅ **Checkpoint:** Ensure that the new table and queries function correctly."
      ]
    },
    {
      "cell_type": "code",
      "source": [
        "# sidekick table\n",
        "cursor.execute('''\n",
        "CREATE TABLE IF NOT EXISTS sidekicks (\n",
        "    id INTEGER PRIMARY KEY AUTOINCREMENT,\n",
        "    name TEXT NOT NULL,\n",
        "    partner_id INTEGER,\n",
        "    power TEXT\n",
        ")\n",
        "''')\n",
        "print(\"Sidekick table created!\")\n",
        "\n",
        "# insert\n",
        "sidekick_data = [\n",
        "    (\"Steve Trevor\", 6, \"Military\"),\n",
        "    (\"She-Hulk\", 9, \"Super Strength\"),\n",
        "    (\"Lois Lane\", 4, \"Journalism\"),\n",
        "    (\"Ned\", 1, \"Legos\"),\n",
        "    (\"Wally West\", 8, \"Super Speed\"),\n",
        "    (\"Wong\", 10, \"Mystic Arts\"),\n",
        "    (\"Robin\", 3, \"Gadgets\"),\n",
        "    (\"Shuri\", 7, \"Engineering\"),\n",
        "    (\"Rhodey\", 2, \"Powered Armor\"),\n",
        "    (\"Loki\", 5, \"Mischief\")\n",
        "]\n",
        "cursor.executemany('''\n",
        "INSERT INTO sidekicks (name, partner_id, power) VALUES (?, ?, ?)\n",
        "''', sidekick_data)\n",
        "connection.commit()\n",
        "print(\"Data inserted into the sidekick table!\")\n",
        "\n",
        "# sidekicks with the least battles\n",
        "cursor.execute('''\n",
        "    SELECT hero_id, COUNT(*) AS count\n",
        "    FROM battles\n",
        "    GROUP BY hero_id\n",
        "    ORDER BY count ASC\n",
        "''')\n",
        "s4hero = cursor.fetchone()\n",
        "cursor.execute(f\"SELECT name, power FROM sidekicks WHERE partner_id = {s4hero[0]}\")\n",
        "s4 = cursor.fetchone()\n",
        "print(f\"Sidekick who fought the least battles: {s4}\")"
      ],
      "metadata": {
        "colab": {
          "base_uri": "https://localhost:8080/"
        },
        "id": "GNk_U75cFkPZ",
        "outputId": "d354a31b-066e-411d-8ec5-5e5e9d9c183d"
      },
      "id": "GNk_U75cFkPZ",
      "execution_count": null,
      "outputs": [
        {
          "output_type": "stream",
          "name": "stdout",
          "text": [
            "Sidekick table created!\n",
            "Data inserted into the sidekick table!\n",
            "Sidekick who fought the least battles: ('Shuri', 'Engineering')\n"
          ]
        }
      ]
    },
    {
      "cell_type": "markdown",
      "id": "9bf43fe6",
      "metadata": {
        "id": "9bf43fe6"
      },
      "source": [
        "## Bonus Challenge (+5 Points)\n",
        "\n",
        "### Tasks:\n",
        "1. Enhance your project by adding a visual or interactive component.\n",
        "\n",
        "**Options:**\n",
        "- Visualize battles using Matplotlib (e.g., a bar chart showing how many battles each superhero has fought).\n",
        "- Make it interactive (e.g., allow users to input a superhero name and display their battles).\n",
        "\n",
        "✅ **Checkpoint:** If attempting the bonus, ensure that your visualization or interactive component works correctly."
      ]
    },
    {
      "cell_type": "code",
      "source": [
        "import matplotlib.pyplot as plt\n",
        "\n",
        "# number of battles by outcome\n",
        "cursor.execute('''\n",
        "    SELECT outcome, COUNT(*) AS count\n",
        "    FROM battles\n",
        "    GROUP BY outcome\n",
        "    ORDER BY count ASC\n",
        "''')\n",
        "battle_data = cursor.fetchall()\n",
        "outcomes = [row[0] for row in battle_data]\n",
        "battle_counts = [row[1] for row in battle_data]\n",
        "\n",
        "# plot design\n",
        "plt.figure(figsize = (10, 5))\n",
        "plt.barh(outcomes, battle_counts, color='blue')\n",
        "plt.ylabel('Outcome')\n",
        "plt.xlabel('Number of Battles')\n",
        "plt.title('Battles Fought by Outcome')\n",
        "plt.xticks(range(1, 16))\n",
        "plt.show()"
      ],
      "metadata": {
        "colab": {
          "base_uri": "https://localhost:8080/",
          "height": 487
        },
        "id": "R8nseb64PbTM",
        "outputId": "32e247bc-ab2b-44f0-ece2-e9926dc53376"
      },
      "id": "R8nseb64PbTM",
      "execution_count": null,
      "outputs": [
        {
          "output_type": "display_data",
          "data": {
            "text/plain": [
              "<Figure size 1000x500 with 1 Axes>"
            ],
            "image/png": "[encoded data removed]"
          },
          "metadata": {}
        }
      ]
    },
    {
      "cell_type": "markdown",
      "id": "89f56c05",
      "metadata": {
        "id": "89f56c05"
      },
      "source": [
        "## Submission Guidelines\n",
        "\n",
        "Each group must submit a **Google Colab Notebook (.ipynb)** containing:\n",
        "- ✅ **Database schema (DDL)**\n",
        "- ✅ **CSV imports & data insertion (DML)**\n",
        "- ✅ **SQL queries & results**\n",
        "- ✅ **Custom feature (bonus if applicable)**"
      ]
    },
    {
      "cell_type": "markdown",
      "id": "61477c9b",
      "metadata": {
        "id": "61477c9b"
      },
      "source": [
        "## Grading Criteria (Total: 25 Points)\n",
        "\n",
        "| Section                 | Points |\n",
        "|-------------------------|--------|\n",
        "| Database Setup          | 5      |\n",
        "| Data Importing         | 10     |\n",
        "| Querying the Data      | 10     |\n",
        "| Extra Feature          | 5      |\n",
        "| Bonus Challenge (Optional) | +5  |"
      ]
    },
    {
      "cell_type": "markdown",
      "id": "92bf6839",
      "metadata": {
        "id": "92bf6839"
      },
      "source": [
        "### Final Notes:\n",
        "- Be **creative** when designing superheroes and villains.\n",
        "- **Comment your code** to explain its functionality.\n",
        "- **Have fun** building your superhero universe!"
      ]
    }
  ],
  "metadata": {
    "colab": {
      "provenance": [],
      "include_colab_link": true
    },
    "language_info": {
      "name": "python"
    },
    "kernelspec": {
      "name": "python3",
      "display_name": "Python 3"
    }
  },
  "nbformat": 4,
  "nbformat_minor": 5
}