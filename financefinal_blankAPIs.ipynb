{
  "nbformat": 4,
  "nbformat_minor": 0,
  "metadata": {
    "colab": {
      "provenance": [],
      "authorship_tag": "ABX9TyNunm8Xo2ZjJqsK0bKf26fk"
    },
    "kernelspec": {
      "name": "python3",
      "display_name": "Python 3"
    },
    "language_info": {
      "name": "python"
    }
  },
  "cells": [
    {
      "cell_type": "markdown",
      "source": [
        "Finance API homework"
      ],
      "metadata": {
        "id": "zRjMvqp50LaZ"
      }
    },
    {
      "cell_type": "code",
      "execution_count": null,
      "metadata": {
        "id": "gbKbeMuBz80j"
      },
      "outputs": [],
      "source": [
        "import json\n",
        "import pandas as pd\n",
        "import json\n",
        "import requests"
      ]
    },
    {
      "cell_type": "markdown",
      "source": [
        "Task 1: Fetch Basic Stock Data\n",
        "- Prompt the user to input two or more stock symbols.\n",
        "- Use the API to fetch data for the given symbols.\n",
        "- Extract and display only the Stock Ticker, Company Name, and Current Market Price."
      ],
      "metadata": {
        "id": "ZGwVJHax0KSV"
      }
    },
    {
      "cell_type": "code",
      "source": [
        "apikey = \"\"\n",
        "url1 = \"https://yfapi.net/v6/finance/quote\"\n",
        "stocks1 = input(\"Choose at least two stocks, separated by a comma: \")\n",
        "\n",
        "querystring = {\"symbols\": stocks1}\n",
        "headers = {'x-api-key': apikey}\n",
        "response1 = requests.request(\"GET\", url1, headers = headers, params = querystring)\n",
        "cleanResponse1 = response1.json()\n",
        "df1 = pd.DataFrame(cleanResponse1['quoteResponse']['result'])\n",
        "df1['regularMarketPrice'] = df1['regularMarketPrice'].apply(lambda x: f\"${x:,.2f}\" if pd.notna(x) else \"N/A\")\n",
        "print(df1[['symbol', 'shortName', 'regularMarketPrice']])"
      ],
      "metadata": {
        "id": "ls7iUvbE0UMX",
        "collapsed": true
      },
      "execution_count": null,
      "outputs": []
    },
    {
      "cell_type": "markdown",
      "source": [
        "Task 2.1: Fetch Additional Data Using Modules\n",
        "- Allow the user to choose a module from the Quote Summary Endpoint.\n",
        "\n",
        "-Find:\n",
        "-52 Week High\n",
        "-52 Week Low\n",
        "-Return on Assets (ROA)\n",
        "\n",
        "- Make an API request using the chosen module.\n",
        "- Convert the response into a Pandas DataFrame.\n",
        "- Display the DataFrame."
      ],
      "metadata": {
        "id": "ke5yEBT7Ya5r"
      }
    },
    {
      "cell_type": "code",
      "source": [
        "apikey = \"\"\n",
        "url2_1 = \"https://yfapi.net/v11/finance/quoteSummary/{symbol}\"\n",
        "module2_1 = input(\"Choose either financialData or summaryDetail module: \")\n",
        "stock2_1 = input(\"Choose a stock: \")\n",
        "\n",
        "querystring = {\"modules\": module2_1, \"symbol\": stock2_1}\n",
        "headers = {'x-api-key': apikey}\n",
        "\n",
        "response2_1 = requests.request(\"GET\", url2_1.format(symbol = stock2_1), headers = headers, params = querystring).json()\n",
        "\n",
        "if module2_1 == \"summaryDetail\":\n",
        " data2_1 = {\"52 Week High\": response2_1[\"quoteSummary\"][\"result\"][0][\"summaryDetail\"][\"fiftyTwoWeekHigh\"][\"raw\"],\n",
        "        \"52 Week Low\": response2_1[\"quoteSummary\"][\"result\"][0][\"summaryDetail\"][\"fiftyTwoWeekLow\"][\"raw\"]}\n",
        "\n",
        "if module2_1 == \"financialData\":\n",
        " data2_1 = {\"Return on Assets (ROA)\": response2_1[\"quoteSummary\"][\"result\"][0][\"financialData\"][\"returnOnAssets\"][\"raw\"]}\n",
        "\n",
        "df2_1 = pd.DataFrame([data2_1])\n",
        "print(df2_1)"
      ],
      "metadata": {
        "id": "qyHbHJS0YgRL"
      },
      "execution_count": null,
      "outputs": []
    },
    {
      "cell_type": "markdown",
      "source": [
        "Task 2.2: Fetch Additional Data Using Modules\n",
        "\n",
        "*  Find Current Trending Stocks , Their Actual Name and Ticker and Current Price as well as their 52 high and low."
      ],
      "metadata": {
        "id": "USIjAqDcMWTH"
      }
    },
    {
      "cell_type": "code",
      "source": [
        "apikey = \"\"\n",
        "\n",
        "trendURL = \"https://yfapi.net/v1/finance/trending/US\"\n",
        "headers = {'x-api-key': apikey}\n",
        "\n",
        "trendResponse = requests.get(trendURL, headers = headers).json()\n",
        "trendStocks = [item[\"symbol\"] for item in trendResponse[\"finance\"][\"result\"][0][\"quotes\"]]\n",
        "trendList = \",\".join(trendStocks)\n",
        "trendDF = pd.DataFrame(trendStocks, columns = [\"symbol\"])"
      ],
      "metadata": {
        "id": "KlCjp9SLMxYW"
      },
      "execution_count": null,
      "outputs": []
    },
    {
      "cell_type": "code",
      "source": [
        "infoList = []\n",
        "\n",
        "for stock in trendStocks:\n",
        "    infoURL = \"https://yfapi.net/v6/finance/quote\"\n",
        "    querystring = {\"symbols\": stock}\n",
        "    headers = {'x-api-key': apikey}\n",
        "\n",
        "    infoResponse = requests.request(\"GET\", infoURL, headers=headers, params=querystring).json()\n",
        "    eachStock = {\"symbol\": stock,\n",
        "            \"longName\": infoResponse[\"quoteResponse\"][\"result\"][0][\"longName\"],\n",
        "            \"regularMarketPrice\": infoResponse[\"quoteResponse\"][\"result\"][0][\"regularMarketPrice\"]}\n",
        "    infoList.append(eachStock)\n",
        "\n",
        "infoDF = pd.DataFrame(infoList)\n",
        "print(infoDF)"
      ],
      "metadata": {
        "id": "-HQnaqc_aCmM"
      },
      "execution_count": null,
      "outputs": []
    },
    {
      "cell_type": "code",
      "source": [
        "yearList = []\n",
        "\n",
        "for stock in trendStocks:\n",
        "  yearURL = f\"https://yfapi.net/v11/finance/quoteSummary/{stock}\"\n",
        "  querystring = {\"modules\": \"summaryDetail\"}\n",
        "  headers = {\"x-api-key\": apikey}\n",
        "\n",
        "  yearResponse = requests.get(yearURL, headers = headers, params = querystring).json()\n",
        "  eachStock = {\"symbol\": stock,\n",
        "    \"52high\": yearResponse[\"quoteSummary\"][\"result\"][0][\"summaryDetail\"][\"fiftyTwoWeekHigh\"][\"raw\"],\n",
        "    \"52low\": yearResponse[\"quoteSummary\"][\"result\"][0][\"summaryDetail\"][\"fiftyTwoWeekLow\"][\"raw\"]}\n",
        "  yearList.append(eachStock)\n",
        "\n",
        "yearDF = pd.DataFrame(yearList)\n",
        "print(yearDF)"
      ],
      "metadata": {
        "id": "cXKcwk9ZbHQ6"
      },
      "execution_count": null,
      "outputs": []
    },
    {
      "cell_type": "code",
      "source": [
        "mergedDF = infoDF.merge(yearDF, on = \"symbol\", how = \"left\")\n",
        "print(mergedDF)\n",
        "\n",
        "mergedDF[\"regularMarketPrice\"] = pd.to_numeric(mergedDF[\"regularMarketPrice\"], errors='coerce')\n",
        "mergedDF[\"regularMarketPrice\"] = mergedDF[\"regularMarketPrice\"].apply(lambda x: f\"${x:,.2f}\" if pd.notna(x) else \"N/A\")\n",
        "mergedDF[\"52high\"] = pd.to_numeric(mergedDF[\"52high\"], errors='coerce')\n",
        "mergedDF[\"52high\"] = mergedDF[\"52high\"].apply(lambda x: f\"${x:,.2f}\" if pd.notna(x) else \"N/A\")\n",
        "mergedDF[\"52low\"] = pd.to_numeric(mergedDF[\"52low\"], errors='coerce')\n",
        "mergedDF[\"52low\"] = mergedDF[\"52low\"].apply(lambda x: f\"${x:,.2f}\" if pd.notna(x) else \"N/A\")"
      ],
      "metadata": {
        "id": "Djrt-7tubO89"
      },
      "execution_count": null,
      "outputs": []
    }
  ]
}